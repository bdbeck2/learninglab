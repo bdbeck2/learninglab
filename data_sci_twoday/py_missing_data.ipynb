{
 "cells": [
  {
   "cell_type": "code",
   "execution_count": 10,
   "metadata": {},
   "outputs": [
    {
     "name": "stdout",
     "output_type": "stream",
     "text": [
      "count: 100  missing: 0\n"
     ]
    },
    {
     "data": {
      "image/png": "[encoded data removed]",
      "text/plain": [
       "<matplotlib.figure.Figure at 0xc83dda0>"
      ]
     },
     "metadata": {},
     "output_type": "display_data"
    }
   ],
   "source": [
    "#py_missing_data.ipynb\n",
    "%matplotlib inline\n",
    "import numpy as np     \n",
    "import pandas as pd\n",
    "import matplotlib.pyplot as plt\n",
    "\n",
    "total_observed=100\n",
    "s = pd.Series(np.random.choice([10, 20, 30, 40, -9], total_observed))\n",
    "h=s.hist()\n",
    "print('count: {}  missing: {}'.format(s.count(),total_observed-s.count()))\n"
   ]
  },
  {
   "cell_type": "code",
   "execution_count": 216,
   "metadata": {},
   "outputs": [
    {
     "name": "stdout",
     "output_type": "stream",
     "text": [
      "count: 3  missing: 97\n",
      "0    100.0\n",
      "1    120.0\n",
      "2      NaN\n",
      "3      NaN\n",
      "4      NaN\n",
      "5    200.0\n",
      "dtype: float64\n"
     ]
    },
    {
     "data": {
      "image/png": "[encoded data removed]",
      "text/plain": [
       "<matplotlib.figure.Figure at 0x19b136d8>"
      ]
     },
     "metadata": {},
     "output_type": "display_data"
    }
   ],
   "source": [
    "#using replace()\n",
    "s.replace(-9, np.nan, inplace = True)\n",
    "h=s.hist()\n",
    "print('count: {}  missing: {}'.format(s.count(),total_observed-s.count()))\n",
    "print(s)"
   ]
  },
  {
   "cell_type": "code",
   "execution_count": 217,
   "metadata": {},
   "outputs": [
    {
     "name": "stdout",
     "output_type": "stream",
     "text": [
      "0    100.0\n",
      "1    120.0\n",
      "5    200.0\n",
      "dtype: float64\n"
     ]
    }
   ],
   "source": [
    "s= s.dropna()   #no inplace=True\n",
    "print(s)"
   ]
  },
  {
   "cell_type": "code",
   "execution_count": 218,
   "metadata": {},
   "outputs": [
    {
     "data": {
      "text/plain": [
       "0    100.0\n",
       "1      NaN\n",
       "2      NaN\n",
       "3      NaN\n",
       "4    200.0\n",
       "dtype: float64"
      ]
     },
     "execution_count": 218,
     "metadata": {},
     "output_type": "execute_result"
    }
   ],
   "source": [
    "# re-create the Series\n",
    "s = pd.Series.from_array([100, np.nan, np.nan, np.nan, 200])\n",
    "s\n"
   ]
  },
  {
   "cell_type": "code",
   "execution_count": 219,
   "metadata": {},
   "outputs": [
    {
     "name": "stdout",
     "output_type": "stream",
     "text": [
      "0                 100\n",
      "1    FAKE NEWS!  SAD.\n",
      "2    FAKE NEWS!  SAD.\n",
      "3    FAKE NEWS!  SAD.\n",
      "4                 200\n",
      "dtype: object\n"
     ]
    }
   ],
   "source": [
    "#replace NaN with a new constant\n",
    "t=s.copy()\n",
    "t=t.fillna(\"FAKE NEWS!  SAD.\")\n",
    "print(t)"
   ]
  },
  {
   "cell_type": "code",
   "execution_count": 220,
   "metadata": {},
   "outputs": [
    {
     "name": "stdout",
     "output_type": "stream",
     "text": [
      "0    100.0\n",
      "1    100.0\n",
      "2    100.0\n",
      "3    100.0\n",
      "4    200.0\n",
      "dtype: float64\n"
     ]
    }
   ],
   "source": [
    "#replace NaN w/ last good value\n",
    "t=s.copy()\n",
    "t=t.fillna(method='ffill')\n",
    "print(t)"
   ]
  },
  {
   "cell_type": "code",
   "execution_count": 36,
   "metadata": {},
   "outputs": [
    {
     "name": "stdout",
     "output_type": "stream",
     "text": [
      "0    100.0\n",
      "1      NaN\n",
      "2    200.0\n",
      "3    200.0\n",
      "4    200.0\n",
      "dtype: float64\n"
     ]
    }
   ],
   "source": [
    "#replace NaN w/ next good value\n",
    "t=s.copy()\n",
    "t=t.fillna(met='bfill', limit=2)\n",
    "print(t)"
   ]
  },
  {
   "cell_type": "code",
   "execution_count": 37,
   "metadata": {},
   "outputs": [
    {
     "name": "stdout",
     "output_type": "stream",
     "text": [
      "0    100.0\n",
      "1    125.0\n",
      "2    150.0\n",
      "3    175.0\n",
      "4    200.0\n",
      "dtype: float64\n"
     ]
    }
   ],
   "source": [
    "#replace NaN w/ interpolated\n",
    "t=s.copy()\n",
    "t=t.interpolate()\n",
    "print(t)"
   ]
  },
  {
   "cell_type": "code",
   "execution_count": 56,
   "metadata": {},
   "outputs": [
    {
     "name": "stdout",
     "output_type": "stream",
     "text": [
      "0    100.0\n",
      "1    120.0\n",
      "2    120.0\n",
      "3    120.0\n",
      "4    200.0\n",
      "5    200.0\n",
      "dtype: float64\n"
     ]
    }
   ],
   "source": [
    "#replace NaN w/ interpolated\n",
    "t=pd.Series.from_array([100,  120, np.nan, np.nan, np.nan, 200])\n",
    "t=t.interpolate(method='nearest', direction='backward')\n",
    "print(t)"
   ]
  },
  {
   "cell_type": "code",
   "execution_count": 235,
   "metadata": {},
   "outputs": [
    {
     "name": "stdout",
     "output_type": "stream",
     "text": [
      "0     3.0\n",
      "1    50.0\n",
      "2     NaN\n",
      "3    99.0\n",
      "4     NaN\n",
      "dtype: float64\n"
     ]
    }
   ],
   "source": [
    "#use mask() to create a new data structure\n",
    "rh=pd.Series.from_array([3, 50, -4, 99, 201])\n",
    "masked=rh.mask((rh<0) | (rh >100))\n",
    "print(masked)\n"
   ]
  },
  {
   "cell_type": "code",
   "execution_count": 65,
   "metadata": {
    "scrolled": true
   },
   "outputs": [
    {
     "name": "stdout",
     "output_type": "stream",
     "text": [
      "0     3\n",
      "1    50\n",
      "3    99\n",
      "dtype: int64\n"
     ]
    }
   ],
   "source": [
    "#grab a slice of 'the good stuff'\n",
    "fixed=rh[ (rh>=0) & (rh <=100)]\n",
    "print(fixed)"
   ]
  },
  {
   "cell_type": "code",
   "execution_count": 249,
   "metadata": {},
   "outputs": [
    {
     "data": {
      "text/plain": [
       "<matplotlib.axes._subplots.AxesSubplot at 0x1c3edb00>"
      ]
     },
     "execution_count": 249,
     "metadata": {},
     "output_type": "execute_result"
    },
    {
     "data": {
      "image/png": "[encoded data removed]",
      "text/plain": [
       "<matplotlib.figure.Figure at 0x1c67a780>"
      ]
     },
     "metadata": {},
     "output_type": "display_data"
    }
   ],
   "source": [
    "#screen data statistically\n",
    "data=np.random.gumbel(size=1000)  #used for 'fat tailed' distributions\n",
    "t=pd.Series(data)\n",
    "t.hist(bins=100)"
   ]
  },
  {
   "cell_type": "code",
   "execution_count": 250,
   "metadata": {},
   "outputs": [
    {
     "data": {
      "text/plain": [
       "<matplotlib.axes._subplots.AxesSubplot at 0x1c814da0>"
      ]
     },
     "execution_count": 250,
     "metadata": {},
     "output_type": "execute_result"
    },
    {
     "data": {
      "image/png": "[encoded data removed]",
      "text/plain": [
       "<matplotlib.figure.Figure at 0x1cdba860>"
      ]
     },
     "metadata": {},
     "output_type": "display_data"
    }
   ],
   "source": [
    "#standardize the data\n",
    "mean=t.mean()\n",
    "stdev=t.std()\n",
    "norm=(t-mean)/stdev\n",
    "norm.hist(bins=100)"
   ]
  },
  {
   "cell_type": "code",
   "execution_count": 246,
   "metadata": {
    "scrolled": true
   },
   "outputs": [
    {
     "name": "stdout",
     "output_type": "stream",
     "text": [
      "good values (bmask)\n",
      " 3    4\n",
      "4    5\n",
      "dtype: int64\n",
      "\n",
      "good values index\n",
      " Int64Index([3, 4], dtype='int64')\n",
      "\n",
      "new series (fixed version)\n",
      " 3    4\n",
      "4    5\n",
      "dtype: int64\n"
     ]
    }
   ],
   "source": [
    "#make a new array with the good values \n",
    "test=pd.Series([1,2,3,4,5])\n",
    "bmask=test[test>3]\n",
    "print('good values (bmask)\\n', bmask)\n",
    "print()\n",
    "print('good values index\\n', bmask.index)\n",
    "print()\n",
    "fixed=test[bmask.index]\n",
    "print('new series (fixed version)\\n', fixed)"
   ]
  },
  {
   "cell_type": "code",
   "execution_count": 254,
   "metadata": {
    "scrolled": true
   },
   "outputs": [
    {
     "data": {
      "text/plain": [
       "<matplotlib.axes._subplots.AxesSubplot at 0x1d4c2320>"
      ]
     },
     "execution_count": 254,
     "metadata": {},
     "output_type": "execute_result"
    },
    {
     "data": {
      "image/png": "[encoded data removed]",
      "text/plain": [
       "<matplotlib.figure.Figure at 0x1d212fd0>"
      ]
     },
     "metadata": {},
     "output_type": "display_data"
    }
   ],
   "source": [
    "#create a mask against the standardized data\n",
    "bmask= norm[norm<2]\n",
    "new_norm=norm[bmask.index]\n",
    "new_norm.hist(bins=100)"
   ]
  },
  {
   "cell_type": "code",
   "execution_count": 255,
   "metadata": {},
   "outputs": [
    {
     "data": {
      "text/plain": [
       "<matplotlib.axes._subplots.AxesSubplot at 0x1e6daa58>"
      ]
     },
     "execution_count": 255,
     "metadata": {},
     "output_type": "execute_result"
    },
    {
     "data": {
      "image/png": "[encoded data removed]",
      "text/plain": [
       "<matplotlib.figure.Figure at 0x1d0f64a8>"
      ]
     },
     "metadata": {},
     "output_type": "display_data"
    }
   ],
   "source": [
    "#now apply it against the original\n",
    "fixed = t[bmask.index]\n",
    "fixed.hist(bins=100)"
   ]
  },
  {
   "cell_type": "code",
   "execution_count": null,
   "metadata": {
    "collapsed": true
   },
   "outputs": [],
   "source": []
  },
  {
   "cell_type": "code",
   "execution_count": 163,
   "metadata": {},
   "outputs": [
    {
     "name": "stdout",
     "output_type": "stream",
     "text": [
      "orig 5.28016973721\n",
      "norm 3.50555399241\n",
      "bmask True\n"
     ]
    }
   ],
   "source": [
    "#bmask.where(bmask==False)\n",
    "#fixed.where(fixed>3)\n",
    "x=15\n",
    "print('orig', t[x])\n",
    "print('norm', norm[x])\n",
    "print('bmask', bmask[x])"
   ]
  },
  {
   "cell_type": "code",
   "execution_count": null,
   "metadata": {
    "collapsed": true
   },
   "outputs": [],
   "source": []
  },
  {
   "cell_type": "code",
   "execution_count": 207,
   "metadata": {},
   "outputs": [
    {
     "data": {
      "text/plain": [
       "<matplotlib.axes._subplots.AxesSubplot at 0x1bc02d68>"
      ]
     },
     "execution_count": 207,
     "metadata": {},
     "output_type": "execute_result"
    },
    {
     "data": {
      "image/png": "[encoded data removed]",
      "text/plain": [
       "<matplotlib.figure.Figure at 0x1bbe2978>"
      ]
     },
     "metadata": {},
     "output_type": "display_data"
    }
   ],
   "source": [
    "data=np.random.gumbel(size=10)  #used for 'fat tailed' distributions\n",
    "t=pd.Series(data)\n",
    "t.hist()\n"
   ]
  },
  {
   "cell_type": "code",
   "execution_count": 212,
   "metadata": {},
   "outputs": [
    {
     "name": "stdout",
     "output_type": "stream",
     "text": [
      "0   -1.141551\n",
      "1   -0.414986\n",
      "2    0.243912\n",
      "3   -0.747169\n",
      "4   -0.407686\n",
      "5    0.823836\n",
      "6    2.330770\n",
      "7   -0.394156\n",
      "8    0.317852\n",
      "9   -0.610822\n",
      "dtype: float64\n",
      "\n"
     ]
    },
    {
     "data": {
      "image/png": "[encoded data removed]",
      "text/plain": [
       "<matplotlib.figure.Figure at 0x1c437ac8>"
      ]
     },
     "metadata": {},
     "output_type": "display_data"
    }
   ],
   "source": [
    "\n",
    "mean=t.mean()\n",
    "stdev=t.std()\n",
    "norm=(t-mean)/stdev\n",
    "#norm.hist(bins=100)\n",
    "norm.hist()\n",
    "print(norm)\n",
    "\n",
    "#print('norm\\n', norm)\n",
    "print()\n",
    "#print('bmask\\n', bmask)\n",
    "\n"
   ]
  },
  {
   "cell_type": "code",
   "execution_count": 213,
   "metadata": {},
   "outputs": [
    {
     "data": {
      "text/plain": [
       "0    0.000000\n",
       "1    0.000000\n",
       "2    0.000000\n",
       "3    0.000000\n",
       "4    0.000000\n",
       "5    0.823836\n",
       "6    2.330770\n",
       "7    0.000000\n",
       "8    0.000000\n",
       "9    0.000000\n",
       "dtype: float64"
      ]
     },
     "execution_count": 213,
     "metadata": {},
     "output_type": "execute_result"
    },
    {
     "data": {
      "image/png": "[encoded data removed]",
      "text/plain": [
       "<matplotlib.figure.Figure at 0x1ca79e10>"
      ]
     },
     "metadata": {},
     "output_type": "display_data"
    }
   ],
   "source": [
    "\n",
    "bmask=norm.where(norm>.5, other=0)\n",
    "bmask.hist()\n",
    "bmask\n"
   ]
  },
  {
   "cell_type": "code",
   "execution_count": 206,
   "metadata": {},
   "outputs": [
    {
     "data": {
      "text/plain": [
       "<matplotlib.axes._subplots.AxesSubplot at 0x1c52aba8>"
      ]
     },
     "execution_count": 206,
     "metadata": {},
     "output_type": "execute_result"
    },
    {
     "data": {
      "image/png": "[encoded data removed]",
      "text/plain": [
       "<matplotlib.figure.Figure at 0x1909a198>"
      ]
     },
     "metadata": {},
     "output_type": "display_data"
    }
   ],
   "source": [
    "fixed= t * bmask\n",
    "fixed.hist()"
   ]
  },
  {
   "cell_type": "code",
   "execution_count": 203,
   "metadata": {},
   "outputs": [
    {
     "name": "stdout",
     "output_type": "stream",
     "text": [
      "0     True\n",
      "1     True\n",
      "2    False\n",
      "3     True\n",
      "4    False\n",
      "dtype: bool\n",
      "0     True\n",
      "1     True\n",
      "2    False\n",
      "3     True\n",
      "4    False\n",
      "dtype: bool\n"
     ]
    }
   ],
   "source": [
    "#create a boolean mask\n",
    "test=pd.Series([1,2,3,-4,5])\n",
    "bmask=test.where(test<3, other=0)\n",
    "print(bmask.astype(bool))\n",
    "\n",
    "test=pd.Series([.1,.2,.3,-.4,.5])\n",
    "bmask=test.where(test<.3, other=0)\n",
    "print(bmask.astype(bool))"
   ]
  },
  {
   "cell_type": "code",
   "execution_count": 234,
   "metadata": {},
   "outputs": [
    {
     "name": "stdout",
     "output_type": "stream",
     "text": [
      "0    0.605561\n",
      "1   -0.539191\n",
      "2   -0.349901\n",
      "3   -1.017363\n",
      "4    0.582698\n",
      "5    0.000000\n",
      "6   -1.259613\n",
      "7   -0.794806\n",
      "8    0.647093\n",
      "9    0.075447\n",
      "dtype: float64\n",
      "0    0.605561\n",
      "1   -0.539191\n",
      "2   -0.349901\n",
      "3   -1.017363\n",
      "4    0.582698\n",
      "5    2.050076\n",
      "6   -1.259613\n",
      "7   -0.794806\n",
      "8    0.647093\n",
      "9    0.075447\n",
      "dtype: float64\n",
      "0     True\n",
      "1     True\n",
      "2     True\n",
      "3     True\n",
      "4     True\n",
      "5    False\n",
      "6     True\n",
      "7     True\n",
      "8     True\n",
      "9     True\n",
      "dtype: bool\n"
     ]
    },
    {
     "data": {
      "text/plain": [
       "<matplotlib.axes._subplots.AxesSubplot at 0x19b69518>"
      ]
     },
     "execution_count": 234,
     "metadata": {},
     "output_type": "execute_result"
    },
    {
     "data": {
      "image/png": "[encoded data removed]",
      "text/plain": [
       "<matplotlib.figure.Figure at 0x19747390>"
      ]
     },
     "metadata": {},
     "output_type": "display_data"
    }
   ],
   "source": [
    "data=np.random.gumbel(size=10)  #used for 'fat tailed' distributions\n",
    "t=pd.Series(data)\n",
    "\n",
    "mean=t.mean()\n",
    "stdev=t.std()\n",
    "norm=(t-mean)/stdev\n",
    "\n",
    "bmask=norm.where(norm<1, other=0).astype(bool)\n",
    "fixed= (norm * bmask)\n",
    "print(fixed)\n",
    "print(norm)\n",
    "print(bmask)\n",
    "fixed.hist(bins=100)"
   ]
  },
  {
   "cell_type": "code",
   "execution_count": null,
   "metadata": {
    "collapsed": true
   },
   "outputs": [],
   "source": []
  }
 ],
 "metadata": {
  "kernelspec": {
   "display_name": "Python 3",
   "language": "python",
   "name": "python3"
  },
  "language_info": {
   "codemirror_mode": {
    "name": "ipython",
    "version": 3
   },
   "file_extension": ".py",
   "mimetype": "text/x-python",
   "name": "python",
   "nbconvert_exporter": "python",
   "pygments_lexer": "ipython3",
   "version": "3.6.1"
  }
 },
 "nbformat": 4,
 "nbformat_minor": 2
}
