{
 "cells": [
  {
   "cell_type": "code",
   "execution_count": 146,
   "metadata": {
    "collapsed": true
   },
   "outputs": [],
   "source": [
    "#py_pandas_pivot_tables.ipynb\n",
    "import numpy as np              \n",
    "import pandas as  pd            \n",
    "import matplotlib.pyplot as plt \n",
    "%matplotlib inline\n",
    "import os\n",
    "datafile='earthquakes.csv'\n",
    "\n",
    "#useful if you want the directory this script is in\n",
    "if '__file__' in dir():\n",
    "    path, _=os.path.split(__file__)  \n",
    "else: path=os.getcwd() \n",
    "    \n",
    "filename=os.path.join(path, datafile)\n",
    "df=pd.read_csv(filename, parse_dates=[0]) #dialect defaults to Excel"
   ]
  },
  {
   "cell_type": "code",
   "execution_count": 147,
   "metadata": {},
   "outputs": [
    {
     "data": {
      "text/html": [
       "<div>\n",
       "<style>\n",
       "    .dataframe thead tr:only-child th {\n",
       "        text-align: right;\n",
       "    }\n",
       "\n",
       "    .dataframe thead th {\n",
       "        text-align: left;\n",
       "    }\n",
       "\n",
       "    .dataframe tbody tr th {\n",
       "        vertical-align: top;\n",
       "    }\n",
       "</style>\n",
       "<table border=\"1\" class=\"dataframe\">\n",
       "  <thead>\n",
       "    <tr style=\"text-align: right;\">\n",
       "      <th></th>\n",
       "      <th>depth</th>\n",
       "      <th>mag</th>\n",
       "      <th>net</th>\n",
       "      <th>place</th>\n",
       "      <th>status</th>\n",
       "      <th>year</th>\n",
       "      <th>mon</th>\n",
       "      <th>day</th>\n",
       "    </tr>\n",
       "    <tr>\n",
       "      <th>time</th>\n",
       "      <th></th>\n",
       "      <th></th>\n",
       "      <th></th>\n",
       "      <th></th>\n",
       "      <th></th>\n",
       "      <th></th>\n",
       "      <th></th>\n",
       "      <th></th>\n",
       "    </tr>\n",
       "  </thead>\n",
       "  <tbody>\n",
       "    <tr>\n",
       "      <th>2017-09-19 16:56:50.540</th>\n",
       "      <td>1.52</td>\n",
       "      <td>2.45</td>\n",
       "      <td>ci</td>\n",
       "      <td>California</td>\n",
       "      <td>automatic</td>\n",
       "      <td>2017</td>\n",
       "      <td>9</td>\n",
       "      <td>19</td>\n",
       "    </tr>\n",
       "    <tr>\n",
       "      <th>2017-09-19 16:15:29.900</th>\n",
       "      <td>2.63</td>\n",
       "      <td>2.92</td>\n",
       "      <td>nc</td>\n",
       "      <td>California</td>\n",
       "      <td>automatic</td>\n",
       "      <td>2017</td>\n",
       "      <td>9</td>\n",
       "      <td>19</td>\n",
       "    </tr>\n",
       "    <tr>\n",
       "      <th>2017-09-19 15:35:09.030</th>\n",
       "      <td>4.52</td>\n",
       "      <td>3.10</td>\n",
       "      <td>us</td>\n",
       "      <td>Idaho</td>\n",
       "      <td>reviewed</td>\n",
       "      <td>2017</td>\n",
       "      <td>9</td>\n",
       "      <td>19</td>\n",
       "    </tr>\n",
       "  </tbody>\n",
       "</table>\n",
       "</div>"
      ],
      "text/plain": [
       "                         depth   mag net       place     status  year  mon  day\n",
       "time                                                                           \n",
       "2017-09-19 16:56:50.540   1.52  2.45  ci  California  automatic  2017    9   19\n",
       "2017-09-19 16:15:29.900   2.63  2.92  nc  California  automatic  2017    9   19\n",
       "2017-09-19 15:35:09.030   4.52  3.10  us       Idaho   reviewed  2017    9   19"
      ]
     },
     "execution_count": 147,
     "metadata": {},
     "output_type": "execute_result"
    }
   ],
   "source": [
    "#py_pandas_pivot_tables.ipynb\n",
    "\n",
    "#use time for the index\n",
    "df['place']=df['place'].astype(str)\n",
    "df['place']=df['place'].str.split(',').str.get(1)\n",
    "df['place']=df['place'].str.strip()\n",
    "df['place']=df['place'].str.replace(\"CA\", \"California\")\n",
    "\n",
    "#  make year, month, and day columns\n",
    "df['year']=df['time'].dt.year\n",
    "df['mon']=df['time'].dt.month\n",
    "df['day']=df['time'].dt.day\n",
    "\n",
    "#nuke extraneous columns\n",
    "df.drop(df.columns[[1,2,5,6,7,8,9,11,12,14,15,16,17,18,20,21]], \\\n",
    "        axis=1, inplace=True)\n",
    "\n",
    "#make time the index\n",
    "df.set_index('time', inplace=True)\n",
    "\n",
    "df.head(3)"
   ]
  },
  {
   "cell_type": "code",
   "execution_count": null,
   "metadata": {
    "collapsed": true
   },
   "outputs": [],
   "source": [
    "#create a pivot table\n",
    "pd.set_option(\"display.width\", 100)\n",
    "pt=pd.pivot_table(df, index=['place', 'year', 'mon'])\n",
    "pt[:5]"
   ]
  },
  {
   "cell_type": "code",
   "execution_count": null,
   "metadata": {
    "collapsed": true,
    "scrolled": true
   },
   "outputs": [],
   "source": [
    "#to rearrange the groupings, simply reorder the indices\n",
    "pt=pd.pivot_table(df, index=['mon', 'place', 'year'])\n",
    "pt[:5]"
   ]
  },
  {
   "cell_type": "code",
   "execution_count": null,
   "metadata": {
    "collapsed": true
   },
   "outputs": [],
   "source": [
    "pt=pd.pivot_table(df, index=['place'],values=['mag'], \n",
    "                  aggfunc=[np.mean, len])\n",
    "pt[:5]"
   ]
  },
  {
   "cell_type": "code",
   "execution_count": null,
   "metadata": {
    "collapsed": true
   },
   "outputs": [],
   "source": [
    "pt=pd.pivot_table(df, index=['place', 'year', 'mon', 'day', 'depth'])\n",
    "pt.query(\"place == ['Oregon', 'California'] and mag > 4\")"
   ]
  },
  {
   "cell_type": "code",
   "execution_count": null,
   "metadata": {
    "collapsed": true
   },
   "outputs": [],
   "source": [
    "type(pt)"
   ]
  },
  {
   "cell_type": "code",
   "execution_count": null,
   "metadata": {
    "collapsed": true
   },
   "outputs": [],
   "source": [
    "cut_offs=[0,4,6,8,10]\n",
    "names=['weak', 'moderate', 'strong', 'intense']\n",
    "df['strength']=pd.cut(df['mag'], cut_offs, labels=names)\n",
    "pt=pd.pivot_table(df, index=['place', 'year', 'mon', 'day', 'depth', 'strength'])\n",
    "pt.query(\"place == ['Oregon', 'California'] and mag > 4\")"
   ]
  },
  {
   "cell_type": "code",
   "execution_count": null,
   "metadata": {
    "collapsed": true,
    "scrolled": true
   },
   "outputs": [],
   "source": [
    "def classify(data_row):\n",
    "    depth=data_row['depth']\n",
    "    if depth < 10:     return 'surface'\n",
    "    elif depth < 100:  return 'shallow'\n",
    "    elif depth < 1000: return 'kinda deep'\n",
    "    else:              return 'really deep'\n",
    "df['deep_cat']=df.apply(classify, axis=1)\n",
    "df[:5]"
   ]
  },
  {
   "cell_type": "code",
   "execution_count": null,
   "metadata": {
    "collapsed": true
   },
   "outputs": [],
   "source": [
    "pd.crosstab(df.strength, columns= df.deep_cat, margins=True )"
   ]
  },
  {
   "cell_type": "code",
   "execution_count": null,
   "metadata": {
    "collapsed": true
   },
   "outputs": [],
   "source": [
    "pd.crosstab([df.mon, df.strength], columns= df.deep_cat, margins=True )"
   ]
  },
  {
   "cell_type": "code",
   "execution_count": null,
   "metadata": {
    "collapsed": true
   },
   "outputs": [],
   "source": [
    "pd.crosstab([df.mon, df.strength], columns= [df.deep_cat, df.year], margins=True )"
   ]
  }
 ],
 "metadata": {
  "kernelspec": {
   "display_name": "Python 3",
   "language": "python",
   "name": "python3"
  },
  "language_info": {
   "codemirror_mode": {
    "name": "ipython",
    "version": 3
   },
   "file_extension": ".py",
   "mimetype": "text/x-python",
   "name": "python",
   "nbconvert_exporter": "python",
   "pygments_lexer": "ipython3",
   "version": "3.6.1"
  }
 },
 "nbformat": 4,
 "nbformat_minor": 2
}
